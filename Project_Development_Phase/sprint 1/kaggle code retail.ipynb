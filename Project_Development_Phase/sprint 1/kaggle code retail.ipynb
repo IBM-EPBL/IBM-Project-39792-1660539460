{
  "nbformat": 4,
  "nbformat_minor": 0,
  "metadata": {
    "colab": {
      "provenance": [],
      "collapsed_sections": []
    },
    "kernelspec": {
      "name": "python3",
      "display_name": "Python 3"
    },
    "language_info": {
      "name": "python"
    }
  },
  "cells": [
    {
      "cell_type": "code",
      "execution_count": 1,
      "metadata": {
        "id": "Cpp5znug89zn"
      },
      "outputs": [],
      "source": [
        "!pip install -q kaggle"
      ]
    },
    {
      "cell_type": "code",
      "source": [
        "!mkdir ~/.kaggle "
      ],
      "metadata": {
        "id": "_vp5rQv59B4g"
      },
      "execution_count": 2,
      "outputs": []
    },
    {
      "cell_type": "code",
      "source": [
        "!cp kaggle.json ~/.kaggle/ "
      ],
      "metadata": {
        "id": "idiN96SC9GnB"
      },
      "execution_count": 3,
      "outputs": []
    },
    {
      "cell_type": "code",
      "source": [
        "!chmod 600 ~/.kaggle/kaggle.json "
      ],
      "metadata": {
        "id": "FJG7K2FM9Qio"
      },
      "execution_count": 4,
      "outputs": []
    },
    {
      "cell_type": "code",
      "source": [
        "!kaggle datasets download -d nivethas0607/retail-store-stock-inventory"
      ],
      "metadata": {
        "colab": {
          "base_uri": "https://localhost:8080/"
        },
        "id": "qn2K4JKl9WWb",
        "outputId": "4940c35c-2fcd-4980-c387-3f3347b3a0c6"
      },
      "execution_count": 5,
      "outputs": [
        {
          "output_type": "stream",
          "name": "stdout",
          "text": [
            "Downloading retail-store-stock-inventory.zip to /content\n",
            "\r  0% 0.00/6.08k [00:00<?, ?B/s]\n",
            "\r100% 6.08k/6.08k [00:00<00:00, 4.31MB/s]\n"
          ]
        }
      ]
    },
    {
      "cell_type": "code",
      "source": [
        "!unzip /content/retail-store-stock-inventory.zip"
      ],
      "metadata": {
        "colab": {
          "base_uri": "https://localhost:8080/"
        },
        "id": "8U4QS6UJ9ggg",
        "outputId": "449d10cb-b6fe-4cc6-8472-4f4dc4b534bc"
      },
      "execution_count": 6,
      "outputs": [
        {
          "output_type": "stream",
          "name": "stdout",
          "text": [
            "Archive:  /content/retail-store-stock-inventory.zip\n",
            "  inflating: mock_kaggle.csv         \n"
          ]
        }
      ]
    }
  ]
}